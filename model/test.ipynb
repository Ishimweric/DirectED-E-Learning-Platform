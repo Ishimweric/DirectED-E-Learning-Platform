{
 "cells": [
  {
   "cell_type": "code",
   "execution_count": 80,
   "id": "1c76cc6e",
   "metadata": {},
   "outputs": [
    {
     "name": "stdout",
     "output_type": "stream",
     "text": [
      "Status code: 200\n"
     ]
    }
   ],
   "source": [
    "import requests\n",
    "from bs4 import BeautifulSoup\n",
    "\n",
    "url = \"https://www.figma.com/resource-library/graphic-design-principles/\"\n",
    "response = requests.get(url)\n",
    "print(f\"Status code: {response.status_code}\")\n",
    "soup = BeautifulSoup(response.text, \"html\")\n",
    "\n",
    "import re\n",
    "def remove_html_tags(text):\n",
    "  pattern = re.compile('<.*?>')\n",
    "  return pattern.sub(r'', text)\n",
    "cleaned_text = remove_html_tags(soup.get_text())\n",
    "with open(\"output.txt\", \"w\", encoding=\"utf-8\") as file:\n",
    "  file.write(cleaned_text)"
   ]
  }
 ],
 "metadata": {
  "kernelspec": {
   "display_name": "venv",
   "language": "python",
   "name": "python3"
  },
  "language_info": {
   "codemirror_mode": {
    "name": "ipython",
    "version": 3
   },
   "file_extension": ".py",
   "mimetype": "text/x-python",
   "name": "python",
   "nbconvert_exporter": "python",
   "pygments_lexer": "ipython3",
   "version": "3.13.5"
  }
 },
 "nbformat": 4,
 "nbformat_minor": 5
}
